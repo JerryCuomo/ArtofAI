{
 "cells": [
  {
   "cell_type": "markdown",
   "id": "1dd509dc",
   "metadata": {},
   "source": [
    "#### Anonymizing Organization Names\n",
    "\n",
    "This notebook demonstrates how to anonymize organization names in a text dataset using spaCy's NLP model.\n",
    "\n",
    "- Load the dataset and load spaCy model\n",
    "- Anonymize organization names using spaCy English language model, to detect organization names\n",
    "- Display anonymized data.\n",
    "\n",
    "Let's begin!\n"
   ]
  },
  {
   "cell_type": "markdown",
   "id": "2f864f44",
   "metadata": {},
   "source": [
    "#### Load Dataset\n",
    "\n",
    "Read the dataset containing text data.\n"
   ]
  },
  {
   "cell_type": "code",
   "execution_count": null,
   "id": "94df1a70",
   "metadata": {},
   "outputs": [],
   "source": [
    "import spacy\n",
    "import pandas as pd\n",
    "\n",
    "# Load the dataset\n",
    "data = pd.read_csv('https://jerrycuomo.github.io/Think_Artificial_Intelligence/datasets/climatebert-climate-detection.csv')\n",
    "\n",
    "data.head()  # Display the first few rows of the dataset"
   ]
  },
  {
   "cell_type": "markdown",
   "id": "dd8e8805",
   "metadata": {},
   "source": [
    "#### Load NLP Model\n",
    "\n",
    "Load a pre-trained spaCy model for entity recognition.\n"
   ]
  },
  {
   "cell_type": "code",
   "execution_count": null,
   "id": "ef761e76",
   "metadata": {},
   "outputs": [],
   "source": [
    "\n",
    "# Load a pre-trained NLP model\n",
    "nlp = spacy.load('en_core_web_sm')  # Efficient small English model\n",
    "\n",
    "print(\"NLP model 'en_core_web_sm' loaded successfully.\")"
   ]
  },
  {
   "cell_type": "markdown",
   "id": "144e2394",
   "metadata": {},
   "source": [
    "#### Anonymize Organization Names\n",
    "\n",
    "Replace organization names with '[ANONYMIZED]'.\n"
   ]
  },
  {
   "cell_type": "code",
   "execution_count": null,
   "id": "381a55d7",
   "metadata": {},
   "outputs": [],
   "source": [
    "\n",
    "# Anonymize organization names directly within the DataFrame\n",
    "for idx, text in enumerate(data['text']):\n",
    "    doc = nlp(text)\n",
    "    anonymized_text = text\n",
    "\n",
    "    for ent in doc.ents:\n",
    "        # Identify organization entities\n",
    "        if ent.label_ == 'ORG':  \n",
    "            anonymized_text = anonymized_text.replace(ent.text, '[ANONYMIZED]') # Replace the text with anonymized version\n",
    "    data.at[idx, 'text'] = anonymized_text  \n",
    "\n",
    "# Display a subset of data to see the anonymized dataset\n",
    "data.head()"
   ]
  },
  {
   "cell_type": "markdown",
   "id": "eb602f6e",
   "metadata": {},
   "source": [
    "#### Conclusion\n",
    "\n",
    "We learned how to:\n",
    "- Use spaCy to detect and anonymize organization names in text data.\n",
    "\n",
    "These skills are essential for maintaining data privacy in text datasets.\n",
    "\n",
    "Great job!\n"
   ]
  }
 ],
 "metadata": {
  "language_info": {
   "name": "python"
  }
 },
 "nbformat": 4,
 "nbformat_minor": 5
}
